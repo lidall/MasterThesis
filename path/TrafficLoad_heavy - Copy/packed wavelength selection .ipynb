{
 "cells": [
  {
   "cell_type": "code",
   "execution_count": 1,
   "metadata": {},
   "outputs": [],
   "source": [
    "import networkx as nx\n",
    "import matplotlib as plt\n",
    "import numpy as np\n",
    "import pandas as pd\n",
    "from itertools import permutations"
   ]
  },
  {
   "cell_type": "code",
   "execution_count": 2,
   "metadata": {},
   "outputs": [],
   "source": [
    "def randomWave(wavelist):\n",
    "    random_seed=np.random.randint(len(wavelist))\n",
    "    return wavelist[random_seed]"
   ]
  },
  {
   "cell_type": "code",
   "execution_count": 3,
   "metadata": {},
   "outputs": [],
   "source": [
    "def Packedwave(wave_DF):\n",
    "    waveList=[]\n",
    "    df=wave_DF.sort_values(by=[\"waveUsage\"],ascending=[False]) \n",
    "    df.reset_index(drop=True, inplace=True)#reset the index sequence\n",
    "    for i in range(len(df)):\n",
    "        waveList.append(df[\"wave\"][i])\n",
    "        \n",
    "    return waveList\n",
    "\n",
    "def waveUpdate(Wave,Path,band):\n",
    "    for i in range(band):\n",
    "        wave_loc=Total_wave.index(Wave+i)\n",
    "        wave_range[wave_loc]+=len(Path)\n",
    "    #print(wave_range)\n",
    "    #print(Total_wave)\n",
    "    #print(randomseed)\n",
    "    Wave_Infor={\"wave\":Total_wave,\n",
    "               \"waveUsage\":wave_range,\n",
    "               \"random\": randomseed}\n",
    "    Wave_infor=pd.DataFrame(Wave_Infor)\n",
    "    \n",
    "    return Wave_infor\n",
    "    "
   ]
  },
  {
   "cell_type": "code",
   "execution_count": 4,
   "metadata": {},
   "outputs": [],
   "source": [
    "def zero_runs(a):\n",
    "    # Create an array that is 1 where a is 0, and pad each end with an extra 0.\n",
    "    iszero = np.concatenate(([0], np.equal(a, 0).view(np.int8), [0]))\n",
    "    absdiff = np.abs(np.diff(iszero))\n",
    "    # Runs start and end where absdiff is 1.\n",
    "    ranges = np.where(absdiff == 1)[0].reshape(-1, 2)\n",
    "    return ranges      \n",
    "\n",
    "def pathBand(path):\n",
    "    path_len=len(path)\n",
    "    #print(path)\n",
    "    #print(path[0][0])\n",
    "    resource=Resource[path[0][0]][path[0][1]][path[0][2]]\n",
    "    for i in range(1,path_len):\n",
    "        resource=list(map(lambda x: x[0]+x[1], zip(resource, Resource[path[i][0]][path[i][1]][path[i][2]])))\n",
    "    pathbandList=zero_runs(resource) \n",
    "    \n",
    "    return pathbandList"
   ]
  },
  {
   "cell_type": "code",
   "execution_count": 5,
   "metadata": {},
   "outputs": [],
   "source": [
    "def bypassType(path):\n",
    "    path_len=len(path)\n",
    "    if(path_len==1):\n",
    "        bypass_type=2\n",
    "    elif(path_len==2):\n",
    "        edgeLoc0=edges_list.index((path[0][0],path[0][1]))\n",
    "        edgeLoc1=edges_list.index((path[1][0],path[1][1]))\n",
    "        if(path[1] in Out_bypassEdges[edgeLoc0][path[0][2]] and path[0] in In_bypassEdges[edgeLoc1][path[1][2]] ) :\n",
    "            bypass_type=3\n",
    "        else:\n",
    "            bypass_type=2\n",
    "            \n",
    "    elif(path_len==3):       \n",
    "        edgeLoc0=edges_list.index((path[0][0],path[0][1]))\n",
    "        edgeLoc1=edges_list.index((path[1][0],path[1][1]))\n",
    "        edgeLoc2=edges_list.index((path[2][0],path[2][1]))\n",
    "        if(path[1] in Out_bypassEdges[edgeLoc0][path[0][2]] and path[0] in In_bypassEdges[edgeLoc1][path[1][2]] ) :\n",
    "            bypass_type=1\n",
    "        elif(path[2] in Out_bypassEdges[edgeLoc0][path[1][2]] and path[1] in In_bypassEdges[edgeLoc1][path[2][2]] ):\n",
    "            bypass_type=1\n",
    "        else:\n",
    "            bypass_type=0\n",
    "                       \n",
    "            \n",
    "    return bypass_type\n",
    "                \n",
    "            "
   ]
  },
  {
   "cell_type": "code",
   "execution_count": 6,
   "metadata": {},
   "outputs": [],
   "source": [
    "def pathBand_Ocuupy(loc1,loc2,wave1,band,index):\n",
    "    path=SD_pathLink[loc1][loc2]\n",
    "    pathBand=ALL_SD_bandwidth[loc1][loc2]\n",
    "    for i in range(len(path)):\n",
    "        for j in range(band):\n",
    "            #print(path)\n",
    "            #print(wave1)\n",
    "            #print(Resource[path[i][0]][path[i][1]][path[i][2]][wave1+j])\n",
    "            Resource[path[i][0]][path[i][1]][path[i][2]][wave1+j]+=index+1\n",
    "            \n",
    "    return\n",
    "\n",
    "        \n",
    "def pathUpdate():\n",
    "    SR_bandwidth=[]\n",
    "    #MaxBand=[]\n",
    "    Hops=[]\n",
    "    for i in range(len(SD_pathLink)):\n",
    "        band=[]\n",
    "        #Max=[]\n",
    "        hops=[]        \n",
    "        for j in range(len(SD_pathLink[i])):\n",
    "            #cost.append(pathCost(SD_pathLink[i][j]))\n",
    "            hops.append(len(SD_pathLink[i][j]))\n",
    "            b=pathBand(SD_pathLink[i][j])\n",
    "            #Max.append(max(b[:,1] - b[:,0]))\n",
    "            band.append(b)            \n",
    "        #SR_pathLink_cost.append(cost)\n",
    "        SR_bandwidth.append(band)\n",
    "        #MaxBand.append(Max)\n",
    "        Hops.append(hops)\n",
    "    global ALL_SD_bandwidth\n",
    "    ALL_SD_bandwidth=SR_bandwidth\n",
    "        \n",
    "    return"
   ]
  },
  {
   "cell_type": "code",
   "execution_count": 7,
   "metadata": {},
   "outputs": [],
   "source": [
    "def CoreSetup():\n",
    "    Nodes_list=list(G.nodes)\n",
    "    #Link_bypass=[]\n",
    "    for i in Nodes_list:\n",
    "        neighborList=list(G.neighbors(i))\n",
    "        #bypasscore_num=len(neighborList)-1# set the bypass core number within each fiber \n",
    "        for j in range(len(neighborList)):\n",
    "            dis=1\n",
    "            while(j+dis<len(neighborList)):\n",
    "                input_loc=edges_list.index((neighborList[j],i))\n",
    "                output_loc=edges_list.index((i,neighborList[j+dis]))\n",
    "                successFlag=0\n",
    "                for m in range(7):\n",
    "                    if(len(bypassEdges[input_loc][m])==0):\n",
    "                        for n in range(7):\n",
    "                            if(len(bypassEdges[output_loc][n])==0):\n",
    "                                bypassEdges[output_loc][n].append(((neighborList[j],i,m)))\n",
    "                                bypassEdges[input_loc][m].append(((i,neighborList[j+dis],n)))\n",
    "                                successFlag=1\n",
    "                                break\n",
    "                        if(successFlag==1):\n",
    "                            break\n",
    "                input_loc=edges_list.index((neighborList[j+dis],i))\n",
    "                output_loc=edges_list.index((i,neighborList[j]))\n",
    "                successFlag=0\n",
    "                for m in range(7):\n",
    "                    if(len(bypassEdges[input_loc][m])==0):\n",
    "                        for n in range(7):\n",
    "                            if(len(bypassEdges[output_loc][n])==0):\n",
    "                                bypassEdges[output_loc][n].append(((neighborList[j+dis],i,m)))\n",
    "                                bypassEdges[input_loc][m].append(((i,neighborList[j],n)))\n",
    "                                successFlag=1\n",
    "                                break\n",
    "                        if(successFlag==1):\n",
    "                            break\n",
    "                                                                                                        \n",
    "                dis+=1\n",
    "    return;"
   ]
  },
  {
   "cell_type": "code",
   "execution_count": 8,
   "metadata": {},
   "outputs": [],
   "source": [
    "def edgeToLinks(path):\n",
    "    pathlist=[]\n",
    "    path_len=len(path)\n",
    "    corePossib=7**path_len\n",
    "    for i in range(corePossib):\n",
    "        List=[]\n",
    "        List.append((path[0]+(i%7,)))\n",
    "        edgeLoc=edges_list.index(path[0])\n",
    "        \n",
    "        if(len(In_bypassEdges[edgeLoc][i%7])>0):\n",
    "            List=[]\n",
    "            continue\n",
    "        for j in range(1,path_len):\n",
    "            List.append((path[j]+((int(i/(7**j)%7)),)))\n",
    "            edgeLoc0=edges_list.index(path[j-1])\n",
    "            edgeLoc1=edges_list.index(path[j])\n",
    "            if(len(Out_bypassEdges[edgeLoc0][List[j-1][2]])>0 and List[j] not in Out_bypassEdges[edgeLoc0][List[j-1][2]] ) :\n",
    "\n",
    "                List=[]\n",
    "                break\n",
    "            if(len(In_bypassEdges[edgeLoc1][List[j][2]])>0 and List[j-1] not in In_bypassEdges[edgeLoc1][List[j][2]] ) :\n",
    "\n",
    "                List=[]\n",
    "                break\n",
    "        edgeLoc=edges_list.index(path[path_len-1])\n",
    "        if(len(Out_bypassEdges[edgeLoc][int(i/(7**(path_len-1)))])>0):            \n",
    "            List=[]\n",
    "            continue \n",
    "        if(len(List)>0):\n",
    "            pathlist.append(List)    \n",
    "    return pathlist"
   ]
  },
  {
   "cell_type": "code",
   "execution_count": 9,
   "metadata": {},
   "outputs": [],
   "source": [
    "def PathAlgorithm_1(PathList,hopsList,bandwidth,pathBandList,bypassList,wave,list1,list2):\n",
    "    Max=np.zeros(len(pathBandList))\n",
    "    Sum=np.zeros(len(pathBandList))\n",
    "    for i in range(len(pathBandList)):\n",
    "        #print (pathBandList[i][:,1] - pathBandList[i][:,0])\n",
    "        #print(i)\n",
    "        #print(PathList[0])\n",
    "        Max[i]=max(pathBandList[i][:,1] - pathBandList[i][:,0])\n",
    "        Sum[i]=sum(pathBandList[i][:,1] - pathBandList[i][:,0])\n",
    "    \n",
    "    infor={\"place\":range(len(PathList)),\n",
    "           \"bypass\":bypassList,\n",
    "           \"bandwidth\": Max,\n",
    "           \"hops\": hopsList,\n",
    "           \"sum\":Sum\n",
    "         }\n",
    "    \n",
    "    Path_infor=pd.DataFrame(infor)     \n",
    "    #print(Path_infor)\n",
    "    df=Path_infor.sort_values(by=list1,ascending=list2) \n",
    "    df.reset_index(drop=True, inplace=True)#reset the index sequence\n",
    "    #print(df)\n",
    "    Path=[]\n",
    "    \n",
    "    for i in range(len(df)):\n",
    "        successful_flag=0\n",
    "        if(df[\"bandwidth\"][i]>bandwidth):\n",
    "            for j in pathBandList[df[\"place\"][i]]:\n",
    "                if(wave>=j[0] and wave+bandwidth<=j[1]):\n",
    "                    Path=PathList[df[\"place\"][i]]\n",
    "                    traffic_feedback.append(df[\"bypass\"][i])\n",
    "                    successful_flag=1\n",
    "                    break \n",
    "        if(successful_flag==1):\n",
    "            break\n",
    "    if(len(Path)==0):\n",
    "        traffic_feedback.append(-1)\n",
    "        #print(df)\n",
    "    return Path\n"
   ]
  },
  {
   "cell_type": "code",
   "execution_count": 10,
   "metadata": {},
   "outputs": [],
   "source": [
    "def PathOccupy_percent():\n",
    "    Bypass_2=[]\n",
    "    Bypass_1=[]\n",
    "    Bypass_0=[]\n",
    "    for i in range(len(edges_list)):\n",
    "        if(edges_list[i] in Traffic_SD_pairs):\n",
    "            for j in range(len((SD_pathLink[i]))):\n",
    "                percent=1-(sum(ALL_SD_bandwidth[i][j][:,1]-ALL_SD_bandwidth[i][j][:,0])-1)/160\n",
    "                if(Bypass_Type[i][j]==2):\n",
    "                    Bypass_2.append((percent))\n",
    "                elif(Bypass_Type[i][j]==1):\n",
    "                    Bypass_1.append((percent))\n",
    "                elif(Bypass_Type[i][j]==0):\n",
    "                    Bypass_0.append((percent))\n",
    "    Bypass=[]\n",
    "    Bypass.append(Bypass_0)\n",
    "    Bypass.append(Bypass_1)\n",
    "    \n",
    "    Bypass.append(Bypass_2)\n",
    "    \n",
    "    return Bypass"
   ]
  },
  {
   "cell_type": "code",
   "execution_count": 11,
   "metadata": {},
   "outputs": [],
   "source": [
    "def Link_percentage():\n",
    "    Edge=[]\n",
    "    Link=[]\n",
    "    for i in edges_list:\n",
    "        Edge.append(str(i))\n",
    "    for j in range(7):        \n",
    "        occupy=[]\n",
    "        for i in edges_list:\n",
    "            #print(i)\n",
    "            #print(list(np.nonzero(Resource[i[0]][i[1]][j])))\n",
    "            k=np.array(Resource[i[0]][i[1]][j])\n",
    "            per=np.count_nonzero(k)/160\n",
    "            occupy.append(per)\n",
    "        Link.append(occupy)\n",
    "    df=pd.DataFrame(Link,columns=Edge)\n",
    "    #print(df)\n",
    "    #df.rename()\n",
    "    return df\n",
    "        "
   ]
  },
  {
   "cell_type": "code",
   "execution_count": 12,
   "metadata": {},
   "outputs": [],
   "source": [
    "def Path_percent():\n",
    "    Bypass_2=[]\n",
    "    Bypass_1=[]\n",
    "    Bypass_0=[]\n",
    "    for i in range(len(edges_list)):\n",
    "        if(edges_list[i] in Traffic_SD_pairs):\n",
    "            for j in range(len((SD_pathLink[i]))):\n",
    "                #percent=1-(sum(ALL_SD_bandwidth[i][j][:,1]-ALL_SD_bandwidth[i][j][:,0])-1)/160\n",
    "                if(Bypass_Type[i][j]==2):\n",
    "                    Bypass_2.append((SD_pathLink[i][j]))\n",
    "                elif(Bypass_Type[i][j]==1):\n",
    "                    Bypass_1.append((SD_pathLink[i][j]))\n",
    "                elif(Bypass_Type[i][j]==0):\n",
    "                    Bypass_0.append((SD_pathLink[i][j]))\n",
    "    Bypass=[]\n",
    "    Bypass.append(Bypass_0)\n",
    "    Bypass.append(Bypass_1)\n",
    "    \n",
    "    Bypass.append(Bypass_2)\n",
    "    \n",
    "    return Bypass"
   ]
  },
  {
   "cell_type": "code",
   "execution_count": 13,
   "metadata": {},
   "outputs": [],
   "source": [
    "TrafficCost=0\n",
    "node_list=[0,1,2,3]\n",
    "Traffic_SD_pairs=[(0,3),(0,1),(0,2),(1,2),(2,3),(1,3),(2,1)]\n",
    "SR_pair=[(0,1),(1,0),(1,2),(2,1),(0,2),(2,0),(2,3),(3,2),(0,3),(3,0),(1,3),(3,1)]\n",
    "edges_list=[(0,1),(1,0),(1,2),(2,1),(0,2),(2,0),(2,3),(3,2),(1,3),(3,1)]\n",
    "bypassEdges=[]\n",
    "In_bypassEdges=[]\n",
    "Out_bypassEdges=[]\n",
    "for i in range(len(edges_list)):\n",
    "    BY=[]\n",
    "    BY0=[]\n",
    "    BY1=[]\n",
    "    \n",
    "    for j in range(7):\n",
    "        BY.append([])\n",
    "        BY0.append([])\n",
    "        BY1.append([])\n",
    "    bypassEdges.append(BY)\n",
    "    In_bypassEdges.append(BY0)\n",
    "    Out_bypassEdges.append(BY1)\n",
    "    \n",
    "\n",
    "   \n",
    "#先对D=2的节点进行bypass设置，在对D=3的节点进行bypass设置\n",
    "#每次设置都在该link中不存在\n",
    "\n",
    "G=nx.DiGraph()\n",
    "G.add_nodes_from(node_list)\n",
    "G.add_edges_from(edges_list)\n",
    "nx.draw(G)\n",
    "\n",
    "#plt.show()\n",
    "\n",
    "\n",
    "link_list=[] \n",
    "\n",
    "for k in range(len(edges_list)):\n",
    "    link_list0=[]\n",
    "    for i in range(7):\n",
    "        link_list0.append(edges_list[k]+(i,)) \n",
    "    link_list.append(link_list0)\n",
    "\n",
    "SD_path=[]\n",
    "SR_pathLink=[]\n",
    "for i in range(len(SR_pair)):\n",
    "    path0=[]\n",
    "    for path in nx.all_simple_paths(G, source=SR_pair[i][0], target=SR_pair[i][1]):\n",
    "        path_edges=[]            \n",
    "        for j in range(len(path)-1):\n",
    "            path_edges.append((path[j],path[j+1]))\n",
    "        path0.append(path_edges)\n",
    "    SD_path.append(path0)\n",
    "\n",
    "\n",
    "CoreSetup() \n",
    "for i in range(len(bypassEdges)):\n",
    "    Link=bypassEdges[i]\n",
    "    for j in range(7):\n",
    "        if(len(Link[j])>0):\n",
    "            if(Link[j][0][0]==edges_list[i][1]):\n",
    "                \n",
    "                Out_bypassEdges[i][j]=Link[j]\n",
    "            elif(Link[j][0][1]==edges_list[i][0]):\n",
    "                In_bypassEdges[i][j]=Link[j]\n",
    "                "
   ]
  },
  {
   "cell_type": "code",
   "execution_count": 14,
   "metadata": {},
   "outputs": [],
   "source": [
    "SD_pathLink=[]  \n",
    "for i in range(len(SD_path)):\n",
    "    Links=[]\n",
    "    for j in range(len(SD_path[i])):\n",
    "        Links=Links+edgeToLinks(SD_path[i][j])\n",
    "        \n",
    "    SD_pathLink.append(Links)\n"
   ]
  },
  {
   "cell_type": "code",
   "execution_count": 15,
   "metadata": {},
   "outputs": [
    {
     "name": "stdout",
     "output_type": "stream",
     "text": [
      "[(0, 0, 0), (1, 0, 0), (0, 1, 0), (1, 1, 0), (0, 0, 1), (1, 0, 1), (0, 1, 1), (1, 1, 1)]\n"
     ]
    }
   ],
   "source": [
    "Tag_range = list(permutations(range(3), 3))\n",
    "Tag_list=[\"hops\",\"bypass\",\"sum\"]\n",
    "FalseorTrue=[]\n",
    "for i in range(8):\n",
    "    k1=int(i%2)\n",
    "    k2=int((i%4)/2)\n",
    "    k3=int(i/4)\n",
    "    FalseorTrue.append((k1,k2,k3))\n",
    "    \n",
    "print(FalseorTrue)\n",
    "\n",
    "FalseTrueList=[False,True]\n"
   ]
  },
  {
   "cell_type": "code",
   "execution_count": 16,
   "metadata": {},
   "outputs": [],
   "source": [
    "Total_bandwidth=161\n",
    "Resource=np.zeros([4,4,7,161]).tolist()\n",
    "ALL_SD_bandwidth=[]\n",
    "MaxBand=[]\n",
    "Hops=[]\n",
    "Bypass_Type=[]\n",
    "for i in range(len(SD_pathLink)):\n",
    "    Band=[]\n",
    "    Max=[]\n",
    "    Hhops=[]\n",
    "    Bypass=[]\n",
    "    for j in range(len(SD_pathLink[i])):\n",
    "        Hhops.append(len(SD_pathLink[i][j]))\n",
    "        b=pathBand(SD_pathLink[i][j])\n",
    "        Max.append(max(b[:,1] - b[:,0]))\n",
    "        Band.append(b)\n",
    "        Bypass.append(bypassType(SD_pathLink[i][j]))\n",
    "    ALL_SD_bandwidth.append(Band)\n",
    "    MaxBand.append(Max)\n",
    "    Hops.append(Hhops)\n",
    "    Bypass_Type.append(Bypass)\n",
    "\n",
    "    \n"
   ]
  },
  {
   "cell_type": "code",
   "execution_count": 17,
   "metadata": {},
   "outputs": [],
   "source": [
    "Total_wave=list(range(Total_bandwidth-1))\n",
    "wave_range=list(np.zeros(len(Total_wave)))\n",
    "randomseed=[]\n",
    "for i in range(len(Total_wave)):\n",
    "    randomseed.append(np.random.randint(len(Total_wave)))\n",
    "Wave_Infor={\"wave\":Total_wave,\n",
    "           \"waveUsage\":wave_range,\n",
    "           \"random\": randomseed}\n",
    "Wave_infor=pd.DataFrame(Wave_Infor)\n"
   ]
  },
  {
   "cell_type": "code",
   "execution_count": null,
   "metadata": {},
   "outputs": [
    {
     "name": "stdout",
     "output_type": "stream",
     "text": [
      "0\n",
      "1\n",
      "2\n",
      "3\n"
     ]
    }
   ],
   "source": [
    "Traffic=range(1,26)\n",
    "traffic=[x*200 for x in Traffic]\n",
    "Traffic_number=[1]+traffic\n",
    "Success_list=[]\n",
    "Tag_List=[]\n",
    "True_List=[]\n",
    "Traffic_length=[]\n",
    "Bandwidth_list=[]\n",
    "Link_status=[]\n",
    "for tag_selection in range(len(Traffic_number)):\n",
    "    for true_selection in range(1):\n",
    "        \n",
    "        print(tag_selection)\n",
    "    \n",
    "        Traffic_num=Traffic_number[tag_selection]\n",
    "        filename='traffic_'+str(Traffic_num)+'.csv'\n",
    "        #Tag=Tag_range[tag_selection]\n",
    "        #choose=FalseorTrue[true_selection]\n",
    "        list1= ['hops', 'sum', 'bypass'] \n",
    "        list2= [True, False, False]\n",
    "        #for i in range(len(Tag)):\n",
    "            #list1.append(Tag_list[Tag[i]])\n",
    "        #for i in range(len(choose)):\n",
    "            #list2.append(FalseTrueList[choose[i]])\n",
    "        Total_bandwidth=161\n",
    "        Resource=np.zeros([4,4,7,161]).tolist()\n",
    "        ALL_SD_bandwidth=[]\n",
    "        MaxBand=[]\n",
    "        Hops=[]\n",
    "        Bypass_Type=[]\n",
    "        for i in range(len(SD_pathLink)):\n",
    "            Band=[]\n",
    "            Max=[]\n",
    "            Hhops=[]\n",
    "            Bypass=[]\n",
    "            for j in range(len(SD_pathLink[i])):\n",
    "                Hhops.append(len(SD_pathLink[i][j]))\n",
    "                b=pathBand(SD_pathLink[i][j])\n",
    "                Max.append(max(b[:,1] - b[:,0]))\n",
    "                Band.append(b)\n",
    "                Bypass.append(bypassType(SD_pathLink[i][j]))\n",
    "            ALL_SD_bandwidth.append(Band)\n",
    "            MaxBand.append(Max)\n",
    "            Hops.append(Hhops)\n",
    "            Bypass_Type.append(Bypass)\n",
    "        \n",
    "        Total_wave=list(range(Total_bandwidth-1))\n",
    "        wave_range=list(np.zeros(len(Total_wave)))\n",
    "        randomseed=[]\n",
    "        for i in range(len(Total_wave)):\n",
    "            randomseed.append(np.random.randint(len(Total_wave)))\n",
    "        Wave_Infor={\"wave\":Total_wave,\n",
    "                   \"waveUsage\":wave_range\n",
    "                   }\n",
    "        Wave_infor=pd.DataFrame(Wave_Infor)\n",
    "\n",
    "        \n",
    "        \n",
    "        # In[214]:\n",
    "        \n",
    "        \n",
    "        Traffic=pd.read_csv(filename,sep=',',names=['S','D','band'])\n",
    "        SuccessFlag=np.zeros(len(Traffic))\n",
    "        BypassFlag=np.zeros(len(Traffic))\n",
    "        traffic_wave=[]\n",
    "        traffic_path=[]\n",
    "        traffic_feedback=[]\n",
    "        Path_band_usage=[]\n",
    "        Traffic_num=len(Traffic)\n",
    "        for i in range(Traffic_num):\n",
    "            traffic=(Traffic['S'][i],Traffic['D'][i])\n",
    "            band=Traffic['band'][i]\n",
    "            traffic_Path=SD_pathLink[SR_pair.index(traffic)]\n",
    "            traffic_Hops=Hops[SR_pair.index(traffic)]\n",
    "            traffic_Band=ALL_SD_bandwidth[SR_pair.index(traffic)]\n",
    "            traffic_Bypass=Bypass_Type[SR_pair.index(traffic)]\n",
    "            wave=Packedwave(Wave_infor)\n",
    "            #print(wave)\n",
    "            #print(Wave_infor)\n",
    "            for j in range(len(wave)):\n",
    "                PathFlag=0\n",
    "                select_wave=wave[j]\n",
    "                #print(select_wave)\n",
    "                selectPath=PathAlgorithm_1(traffic_Path,traffic_Hops,band,traffic_Band,traffic_Bypass,select_wave,list1,list2)\n",
    "                #print(selectPath)\n",
    "                if(len(selectPath) and select_wave+band<=160):\n",
    "                    Wave_infor=waveUpdate(select_wave,selectPath,band)\n",
    "                    Pathloc=traffic_Path.index(selectPath)\n",
    "                    pathBand_Ocuupy(SR_pair.index(traffic),Pathloc,select_wave,band,i)\n",
    "                    PathFlag=1\n",
    "                    traffic_wave.append(select_wave)\n",
    "                    traffic_path.append(selectPath)            \n",
    "                    pathUpdate()\n",
    "                    if(PathFlag==1):\n",
    "                        SuccessFlag[i]=1\n",
    "                    break\n",
    "                \n",
    "        k=0\n",
    "        for i in traffic_path:\n",
    "            k+=len(i)\n",
    "        Traffic_length.append(k/len(traffic_path))\n",
    "        k=0\n",
    "        for i in range(Traffic_num):\n",
    "            if(SuccessFlag[i]==1):\n",
    "                k+=Traffic['band'][i]\n",
    "        Bandwidth_list.append(k)\n",
    "        Link_status.append(Link_percentage())        \n",
    "        Success_list.append(SuccessFlag.sum()) "
   ]
  },
  {
   "cell_type": "code",
   "execution_count": null,
   "metadata": {},
   "outputs": [],
   "source": [
    "m=0\n",
    "n=0\n",
    "p=0\n",
    "q=0\n",
    "for i in range(Traffic_num):\n",
    "    if(SuccessFlag[i]==1):\n",
    "        print(str(i)+' : '+str(Traffic['band'][i]))\n",
    "        if(Traffic['band'][i]==1):\n",
    "            m+=1\n",
    "        elif(Traffic['band'][i]==2):\n",
    "            n+=1\n",
    "        elif(Traffic['band'][i]==4):\n",
    "            p+=1 \n",
    "        elif(Traffic['band'][i]==16):\n",
    "            q+=1"
   ]
  },
  {
   "cell_type": "code",
   "execution_count": null,
   "metadata": {},
   "outputs": [],
   "source": [
    "print(m)\n",
    "print(n)\n",
    "print(p)\n",
    "print(q)"
   ]
  },
  {
   "cell_type": "code",
   "execution_count": null,
   "metadata": {},
   "outputs": [],
   "source": [
    "c={'success':Success_list,\n",
    "   'length': Traffic_length,\n",
    "   'band':Bandwidth_list\n",
    "    \n",
    "}\n",
    "\n",
    "test=pd.DataFrame(c)\n",
    "test.to_csv('packedwavelength.csv')"
   ]
  },
  {
   "cell_type": "code",
   "execution_count": null,
   "metadata": {},
   "outputs": [],
   "source": [
    "print(Success_list)"
   ]
  },
  {
   "cell_type": "code",
   "execution_count": 94,
   "metadata": {},
   "outputs": [
    {
     "name": "stdout",
     "output_type": "stream",
     "text": [
      "8910\n",
      "127.28571428571429\n"
     ]
    }
   ],
   "source": [
    "occupy=0\n",
    "for j in range(7):        \n",
    "    \n",
    "    for i in edges_list:\n",
    "            #print(i)\n",
    "            #print(list(np.nonzero(Resource[i[0]][i[1]][j])))\n",
    "        k=np.array(Resource[i[0]][i[1]][j])\n",
    "        S=np.count_nonzero(k)\n",
    "        occupy+=S\n",
    "print(occupy)\n",
    "print(occupy/(7*10)) #average wavelength resource occupy                                                                                                  "
   ]
  },
  {
   "cell_type": "code",
   "execution_count": 22,
   "metadata": {},
   "outputs": [
    {
     "name": "stdout",
     "output_type": "stream",
     "text": [
      "[1.0, 50.0, 100.0, 150.0, 200.0, 250.0, 300.0, 350.0, 400.0, 450.0, 500.0, 550.0, 596.0, 643.0, 675.0, 725.0, 671.0, 688.0, 734.0, 663.0, 773.0, 715.0, 689.0, 722.0, 750.0, 758.0, 731.0, 687.0, 772.0, 717.0, 786.0, 689.0, 780.0, 714.0, 735.0, 729.0, 723.0, 766.0, 668.0, 759.0, 730.0, 697.0, 676.0, 761.0, 770.0, 748.0, 780.0, 639.0, 741.0, 719.0, 710.0]\n"
     ]
    }
   ],
   "source": [
    "print(Success_list)"
   ]
  },
  {
   "cell_type": "code",
   "execution_count": null,
   "metadata": {},
   "outputs": [],
   "source": []
  },
  {
   "cell_type": "code",
   "execution_count": null,
   "metadata": {},
   "outputs": [],
   "source": []
  },
  {
   "cell_type": "code",
   "execution_count": null,
   "metadata": {},
   "outputs": [],
   "source": []
  },
  {
   "cell_type": "code",
   "execution_count": null,
   "metadata": {},
   "outputs": [],
   "source": []
  },
  {
   "cell_type": "code",
   "execution_count": 19,
   "metadata": {},
   "outputs": [
    {
     "name": "stdout",
     "output_type": "stream",
     "text": [
      "[1222.0, 1362.0, 1205.0, 1346.0, 1214.0, 1359.0, 1222.0, 1333.0, 1234.0, 1376.0, 1192.0, 1353.0, 1215.0, 1388.0, 1222.0, 1327.0, 1307.0, 1227.0, 1356.0, 1247.0, 1322.0, 1191.0, 1347.0, 1247.0, 1321.0, 1228.0, 1322.0, 1191.0, 1357.0, 1247.0, 1322.0, 1236.0, 1267.0, 1216.0, 1352.0, 1304.0, 1251.0, 1204.0, 1352.0, 1306.0, 1309.0, 1313.0, 1256.0, 1222.0, 1320.0, 1328.0, 1269.0, 1235.0]\n"
     ]
    }
   ],
   "source": [
    "print(Success_list)"
   ]
  },
  {
   "cell_type": "code",
   "execution_count": 20,
   "metadata": {},
   "outputs": [
    {
     "name": "stdout",
     "output_type": "stream",
     "text": [
      "['hops', 'sum', 'bypass']\n",
      "[True, False, True]\n"
     ]
    }
   ],
   "source": [
    "print(Tag_List[Success_list.index(max(Success_list))])\n",
    "print(True_List[Success_list.index(max(Success_list))])"
   ]
  },
  {
   "cell_type": "code",
   "execution_count": 21,
   "metadata": {},
   "outputs": [
    {
     "name": "stdout",
     "output_type": "stream",
     "text": [
      "[0, 100, 93, 94, 95, 96, 98, 99, 101, 91, 102, 103, 104, 105, 106, 107, 92, 89, 70, 1, 72, 74, 75, 76, 77, 78, 81, 88, 82, 83, 84, 85, 86, 87, 108, 109, 110, 145, 134, 135, 136, 139, 140, 143, 146, 111, 147, 148, 150, 152, 153, 154, 129, 128, 127, 126, 125, 124, 123, 122, 121, 120, 119, 117, 116, 115, 114, 113, 112, 71, 80, 69, 37, 21, 22, 23, 24, 25, 26, 27, 28, 68, 30, 31, 32, 33, 34, 35, 20, 19, 18, 9, 2, 3, 4, 5, 6, 7, 10, 17, 11, 12, 13, 14, 15, 16, 36, 29, 38, 53, 67, 66, 65, 64, 63, 62, 61, 60, 59, 58, 39, 56, 55, 54, 57, 159, 52, 51, 50, 49, 40, 41, 48, 47, 42, 43, 44, 45, 46, 156, 73, 90, 142, 131, 133, 137, 97, 158, 132, 151, 149, 144, 8, 157, 118, 138, 130, 141, 79, 155]\n"
     ]
    }
   ],
   "source": [
    "print(wave)"
   ]
  },
  {
   "cell_type": "code",
   "execution_count": null,
   "metadata": {},
   "outputs": [],
   "source": []
  },
  {
   "cell_type": "code",
   "execution_count": 24,
   "metadata": {},
   "outputs": [
    {
     "name": "stdout",
     "output_type": "stream",
     "text": [
      "[['hops', 'bypass', 'sum'], ['hops', 'bypass', 'sum'], ['hops', 'bypass', 'sum'], ['hops', 'bypass', 'sum'], ['hops', 'bypass', 'sum'], ['hops', 'bypass', 'sum'], ['hops', 'bypass', 'sum'], ['hops', 'bypass', 'sum'], ['hops', 'sum', 'bypass'], ['hops', 'sum', 'bypass'], ['hops', 'sum', 'bypass'], ['hops', 'sum', 'bypass'], ['hops', 'sum', 'bypass'], ['hops', 'sum', 'bypass'], ['hops', 'sum', 'bypass'], ['hops', 'sum', 'bypass'], ['bypass', 'hops', 'sum'], ['bypass', 'hops', 'sum'], ['bypass', 'hops', 'sum'], ['bypass', 'hops', 'sum'], ['bypass', 'hops', 'sum'], ['bypass', 'hops', 'sum'], ['bypass', 'hops', 'sum'], ['bypass', 'hops', 'sum'], ['bypass', 'sum', 'hops'], ['bypass', 'sum', 'hops'], ['bypass', 'sum', 'hops'], ['bypass', 'sum', 'hops'], ['bypass', 'sum', 'hops'], ['bypass', 'sum', 'hops'], ['bypass', 'sum', 'hops'], ['bypass', 'sum', 'hops'], ['sum', 'hops', 'bypass'], ['sum', 'hops', 'bypass'], ['sum', 'hops', 'bypass'], ['sum', 'hops', 'bypass'], ['sum', 'hops', 'bypass'], ['sum', 'hops', 'bypass'], ['sum', 'hops', 'bypass'], ['sum', 'hops', 'bypass'], ['sum', 'bypass', 'hops'], ['sum', 'bypass', 'hops'], ['sum', 'bypass', 'hops'], ['sum', 'bypass', 'hops'], ['sum', 'bypass', 'hops'], ['sum', 'bypass', 'hops'], ['sum', 'bypass', 'hops'], ['sum', 'bypass', 'hops']]\n",
      "[[False, False, False], [True, False, False], [False, True, False], [True, True, False], [False, False, True], [True, False, True], [False, True, True], [True, True, True], [False, False, False], [True, False, False], [False, True, False], [True, True, False], [False, False, True], [True, False, True], [False, True, True], [True, True, True], [False, False, False], [True, False, False], [False, True, False], [True, True, False], [False, False, True], [True, False, True], [False, True, True], [True, True, True], [False, False, False], [True, False, False], [False, True, False], [True, True, False], [False, False, True], [True, False, True], [False, True, True], [True, True, True], [False, False, False], [True, False, False], [False, True, False], [True, True, False], [False, False, True], [True, False, True], [False, True, True], [True, True, True], [False, False, False], [True, False, False], [False, True, False], [True, True, False], [False, False, True], [True, False, True], [False, True, True], [True, True, True]]\n"
     ]
    }
   ],
   "source": [
    "print(Tag_List)\n",
    "print(True_List)"
   ]
  },
  {
   "cell_type": "code",
   "execution_count": 26,
   "metadata": {},
   "outputs": [
    {
     "name": "stdout",
     "output_type": "stream",
     "text": [
      "48\n",
      "[13, 9, 1, 5, 28]\n",
      "1388.0\n",
      "['hops', 'sum', 'bypass']\n",
      "[True, False, True]\n",
      "1376.0\n",
      "['hops', 'sum', 'bypass']\n",
      "[True, False, False]\n",
      "1362.0\n",
      "['hops', 'bypass', 'sum']\n",
      "[True, False, False]\n",
      "1359.0\n",
      "['hops', 'bypass', 'sum']\n",
      "[True, False, True]\n",
      "1357.0\n",
      "['bypass', 'sum', 'hops']\n",
      "[False, False, True]\n"
     ]
    }
   ],
   "source": [
    "import heapq\n",
    "\n",
    "\n",
    "a=[1222.0, 1362.0, 1205.0, 1346.0, 1214.0, 1359.0, 1222.0, 1333.0, 1234.0, 1376.0, 1192.0, 1353.0, 1215.0, 1388.0, 1222.0, 1327.0, 1307.0, 1227.0, 1356.0, 1247.0, 1322.0, 1191.0, 1347.0, 1247.0, 1321.0, 1228.0, 1322.0, 1191.0, 1357.0, 1247.0, 1322.0, 1236.0, 1267.0, 1216.0, 1352.0, 1304.0, 1251.0, 1204.0, 1352.0, 1306.0, 1309.0, 1313.0, 1256.0, 1222.0, 1320.0, 1328.0, 1269.0, 1235.0]\n",
    "\n",
    "\n",
    "tag=[['hops', 'bypass', 'sum'], ['hops', 'bypass', 'sum'], ['hops', 'bypass', 'sum'], ['hops', 'bypass', 'sum'], ['hops', 'bypass', 'sum'], ['hops', 'bypass', 'sum'], ['hops', 'bypass', 'sum'], ['hops', 'bypass', 'sum'], ['hops', 'sum', 'bypass'], ['hops', 'sum', 'bypass'], ['hops', 'sum', 'bypass'], ['hops', 'sum', 'bypass'], ['hops', 'sum', 'bypass'], ['hops', 'sum', 'bypass'], ['hops', 'sum', 'bypass'], ['hops', 'sum', 'bypass'], ['bypass', 'hops', 'sum'], ['bypass', 'hops', 'sum'], ['bypass', 'hops', 'sum'], ['bypass', 'hops', 'sum'], ['bypass', 'hops', 'sum'], ['bypass', 'hops', 'sum'], ['bypass', 'hops', 'sum'], ['bypass', 'hops', 'sum'], ['bypass', 'sum', 'hops'], ['bypass', 'sum', 'hops'], ['bypass', 'sum', 'hops'], ['bypass', 'sum', 'hops'], ['bypass', 'sum', 'hops'], ['bypass', 'sum', 'hops'], ['bypass', 'sum', 'hops'], ['bypass', 'sum', 'hops'], ['sum', 'hops', 'bypass'], ['sum', 'hops', 'bypass'], ['sum', 'hops', 'bypass'], ['sum', 'hops', 'bypass'], ['sum', 'hops', 'bypass'], ['sum', 'hops', 'bypass'], ['sum', 'hops', 'bypass'], ['sum', 'hops', 'bypass'], ['sum', 'bypass', 'hops'], ['sum', 'bypass', 'hops'], ['sum', 'bypass', 'hops'], ['sum', 'bypass', 'hops'], ['sum', 'bypass', 'hops'], ['sum', 'bypass', 'hops'], ['sum', 'bypass', 'hops'], ['sum', 'bypass', 'hops']]\n",
    "true=[[False, False, False], [True, False, False], [False, True, False], [True, True, False], [False, False, True], [True, False, True], [False, True, True], [True, True, True], [False, False, False], [True, False, False], [False, True, False], [True, True, False], [False, False, True], [True, False, True], [False, True, True], [True, True, True], [False, False, False], [True, False, False], [False, True, False], [True, True, False], [False, False, True], [True, False, True], [False, True, True], [True, True, True], [False, False, False], [True, False, False], [False, True, False], [True, True, False], [False, False, True], [True, False, True], [False, True, True], [True, True, True], [False, False, False], [True, False, False], [False, True, False], [True, True, False], [False, False, True], [True, False, True], [False, True, True], [True, True, True], [False, False, False], [True, False, False], [False, True, False], [True, True, False], [False, False, True], [True, False, True], [False, True, True], [True, True, True]]\n",
    "big_index=list(map(a.index,heapq.nlargest(5,a)))\n",
    "print(len(true))\n",
    "print(big_index)\n",
    "for i in big_index:\n",
    "    print(a[i])\n",
    "    print(tag[i])\n",
    "    print(true[i])"
   ]
  },
  {
   "cell_type": "code",
   "execution_count": null,
   "metadata": {},
   "outputs": [],
   "source": []
  },
  {
   "cell_type": "code",
   "execution_count": null,
   "metadata": {},
   "outputs": [],
   "source": []
  },
  {
   "cell_type": "code",
   "execution_count": null,
   "metadata": {},
   "outputs": [],
   "source": []
  },
  {
   "cell_type": "code",
   "execution_count": null,
   "metadata": {},
   "outputs": [],
   "source": []
  },
  {
   "cell_type": "code",
   "execution_count": null,
   "metadata": {},
   "outputs": [],
   "source": []
  },
  {
   "cell_type": "code",
   "execution_count": null,
   "metadata": {},
   "outputs": [],
   "source": []
  },
  {
   "cell_type": "code",
   "execution_count": null,
   "metadata": {},
   "outputs": [],
   "source": []
  },
  {
   "cell_type": "code",
   "execution_count": null,
   "metadata": {},
   "outputs": [],
   "source": []
  },
  {
   "cell_type": "code",
   "execution_count": null,
   "metadata": {},
   "outputs": [],
   "source": []
  }
 ],
 "metadata": {
  "kernelspec": {
   "display_name": "Python 3",
   "language": "python",
   "name": "python3"
  },
  "language_info": {
   "codemirror_mode": {
    "name": "ipython",
    "version": 3
   },
   "file_extension": ".py",
   "mimetype": "text/x-python",
   "name": "python",
   "nbconvert_exporter": "python",
   "pygments_lexer": "ipython3",
   "version": "3.6.5"
  }
 },
 "nbformat": 4,
 "nbformat_minor": 2
}
